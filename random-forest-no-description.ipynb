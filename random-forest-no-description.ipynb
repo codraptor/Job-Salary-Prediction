{
 "cells": [
  {
   "cell_type": "code",
   "execution_count": 41,
   "id": "c687e3b3-5ed3-4e30-9102-8aad5dc5ad4c",
   "metadata": {},
   "outputs": [],
   "source": [
    "import numpy as np\n",
    "import pandas as pd\n",
    "from sklearn.model_selection import train_test_split\n",
    "from sklearn.ensemble import RandomForestRegressor\n",
    "from sklearn.metrics import mean_absolute_error\n",
    "from sklearn.model_selection import RandomizedSearchCV"
   ]
  },
  {
   "cell_type": "code",
   "execution_count": 42,
   "id": "a52e19c0-227f-4431-93ce-c5f885dfed70",
   "metadata": {},
   "outputs": [],
   "source": [
    "np.random.seed(42)\n",
    "grid = {\n",
    "    \"n_estimators\":np.arange(10,100,10),\n",
    "    \"max_depth\":[None,3,5,10],\n",
    "    \"min_samples_split\":np.arange(2,20,2),\n",
    "    \"min_samples_leaf\":np.arange(1,20,2),\n",
    "    \"max_features\": [0.5,1,\"sqrt\",\"auto\"],\n",
    "    \"max_samples\":[10000,12000,15000,20000]\n",
    "}"
   ]
  },
  {
   "cell_type": "code",
   "execution_count": 43,
   "id": "824ac70a-1878-439c-90a8-3e5d60b4c497",
   "metadata": {},
   "outputs": [],
   "source": [
    "training_data = pd.read_csv('./data/Train_rev1.zip', compression='zip', header=0, sep=',', quotechar='\"')"
   ]
  },
  {
   "cell_type": "code",
   "execution_count": 44,
   "id": "20fca136-d8f0-4e97-bf25-5c36f1ef481c",
   "metadata": {},
   "outputs": [],
   "source": [
    "for label, content in training_data.items():\n",
    "    if pd.api.types.is_string_dtype(content):\n",
    "        training_data[label] = content.astype(\"category\").cat.as_ordered()"
   ]
  },
  {
   "cell_type": "code",
   "execution_count": 45,
   "id": "e1bbfc2f-7910-43eb-8577-4905b15b3163",
   "metadata": {},
   "outputs": [],
   "source": [
    "for label,content in training_data.items():\n",
    "    if not pd.api.types.is_numeric_dtype(content):\n",
    "        # Add binary column to indicate whether sample had missing value\n",
    "        training_data[label+\"<unk>\"]=pd.isnull(content)\n",
    "        # Turn categories into numbers and add+1\n",
    "        training_data[label] = pd.Categorical(content).codes+1"
   ]
  },
  {
   "cell_type": "code",
   "execution_count": 46,
   "id": "e8961525-abf5-4421-a2e1-a3acc5545bce",
   "metadata": {},
   "outputs": [],
   "source": [
    "df_copy = training_data.copy()"
   ]
  },
  {
   "cell_type": "code",
   "execution_count": 47,
   "id": "b1aab928-fb9b-428b-91b8-6ea1ca001361",
   "metadata": {},
   "outputs": [],
   "source": [
    "X = df_copy.drop(columns=[\"SalaryNormalized\",\"FullDescription\"],axis=1)\n",
    "y = df_copy[\"SalaryNormalized\"]"
   ]
  },
  {
   "cell_type": "code",
   "execution_count": 48,
   "id": "7fe15917-0c8f-4c9f-a3fa-de11a4dac43c",
   "metadata": {},
   "outputs": [],
   "source": [
    "X_train,X_test,y_train,y_test = train_test_split(X,y,test_size=0.25,random_state=0)"
   ]
  },
  {
   "cell_type": "code",
   "execution_count": 49,
   "id": "a2eb5fda-2947-441b-9da6-cfe2b1c0db53",
   "metadata": {},
   "outputs": [],
   "source": [
    "model = RandomizedSearchCV(\n",
    "RandomForestRegressor(n_jobs=-1,\n",
    "                     random_state=42),\n",
    "                    param_distributions = grid,\n",
    "                     n_iter=5,\n",
    "                    cv=5,\n",
    "                    verbose=True)"
   ]
  },
  {
   "cell_type": "code",
   "execution_count": 50,
   "id": "803b3840-f95b-42e5-826e-322c49c3c35d",
   "metadata": {},
   "outputs": [
    {
     "name": "stdout",
     "output_type": "stream",
     "text": [
      "Fitting 5 folds for each of 5 candidates, totalling 25 fits\n"
     ]
    },
    {
     "data": {
      "text/plain": [
       "RandomizedSearchCV(cv=5,\n",
       "                   estimator=RandomForestRegressor(n_jobs=-1, random_state=42),\n",
       "                   n_iter=5,\n",
       "                   param_distributions={'max_depth': [None, 3, 5, 10],\n",
       "                                        'max_features': [0.5, 1, 'sqrt',\n",
       "                                                         'auto'],\n",
       "                                        'max_samples': [10000, 12000, 15000,\n",
       "                                                        20000],\n",
       "                                        'min_samples_leaf': array([ 1,  3,  5,  7,  9, 11, 13, 15, 17, 19]),\n",
       "                                        'min_samples_split': array([ 2,  4,  6,  8, 10, 12, 14, 16, 18]),\n",
       "                                        'n_estimators': array([10, 20, 30, 40, 50, 60, 70, 80, 90])},\n",
       "                   verbose=True)"
      ]
     },
     "execution_count": 50,
     "metadata": {},
     "output_type": "execute_result"
    }
   ],
   "source": [
    "model.fit(X_train,y_train)"
   ]
  },
  {
   "cell_type": "code",
   "execution_count": 51,
   "id": "ee145d74-426c-4d77-a1bc-1874ca94e855",
   "metadata": {},
   "outputs": [],
   "source": [
    "y_preds = model.predict(X_test)"
   ]
  },
  {
   "cell_type": "code",
   "execution_count": 52,
   "id": "0fcd236e-ffba-4006-8b74-f1c2feb124fb",
   "metadata": {},
   "outputs": [],
   "source": [
    "mae_hyp = mean_absolute_error(y_test,y_preds)"
   ]
  },
  {
   "cell_type": "code",
   "execution_count": 53,
   "id": "e8f985ed-7ce7-43fd-ad62-75b30b377a6e",
   "metadata": {},
   "outputs": [
    {
     "data": {
      "text/plain": [
       "4582.112930743556"
      ]
     },
     "execution_count": 53,
     "metadata": {},
     "output_type": "execute_result"
    }
   ],
   "source": [
    "mae_hyp"
   ]
  },
  {
   "cell_type": "code",
   "execution_count": null,
   "id": "233ed67c-6cef-45c3-9b2b-068e0105793a",
   "metadata": {},
   "outputs": [],
   "source": []
  }
 ],
 "metadata": {
  "kernelspec": {
   "display_name": "Python 3",
   "language": "python",
   "name": "python3"
  },
  "language_info": {
   "codemirror_mode": {
    "name": "ipython",
    "version": 3
   },
   "file_extension": ".py",
   "mimetype": "text/x-python",
   "name": "python",
   "nbconvert_exporter": "python",
   "pygments_lexer": "ipython3",
   "version": "3.8.8"
  }
 },
 "nbformat": 4,
 "nbformat_minor": 5
}
